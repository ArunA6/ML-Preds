{
 "cells": [
  {
   "cell_type": "code",
   "execution_count": 3,
   "id": "6fc2ebe8",
   "metadata": {},
   "outputs": [],
   "source": [
    "#importing general libraries\n",
    "import numpy as np\n",
    "import pandas as pd\n",
    "import matplotlib.pyplot as plt\n",
    "from matplotlib.pyplot import subplots\n",
    "from statsmodels.datasets import get_rdataset\n",
    "import sklearn\n",
    "import sklearn.model_selection as skm"
   ]
  },
  {
   "cell_type": "code",
   "execution_count": 2,
   "id": "481f0a20",
   "metadata": {},
   "outputs": [],
   "source": [
    "#importing Decision Tree libraries\n",
    "from sklearn.tree import (DecisionTreeClassifier as DTC, DecisionTreeRegressor as DTR, plot_tree , export_text)\n",
    "from sklearn.metrics import (accuracy_score , log_loss)\n",
    "#from sklearn.ensemble import (RandomForestRegressor as RF, GradientBoostingRegressor as GBR)"
   ]
  },
  {
   "cell_type": "code",
   "execution_count": 3,
   "id": "b78f4ea3",
   "metadata": {
    "scrolled": true
   },
   "outputs": [],
   "source": [
    "#reading csv training set into a data frame\n",
    "df = pd.read_csv('Econ424_W2024_PC2_training_set_v1.csv')"
   ]
  },
  {
   "cell_type": "code",
   "execution_count": 4,
   "id": "ff443e90",
   "metadata": {},
   "outputs": [],
   "source": [
    "#X = np.asarray(df)"
   ]
  },
  {
   "cell_type": "code",
   "execution_count": 5,
   "id": "0fe46d0a",
   "metadata": {},
   "outputs": [],
   "source": [
    "#storing the explanatory/independent variables in a new array (features are our 'X')\n",
    "X = df.drop(columns=['LOGVALUE'])"
   ]
  },
  {
   "cell_type": "code",
   "execution_count": 6,
   "id": "93dac6cd",
   "metadata": {},
   "outputs": [],
   "source": [
    "#putting feature column names into a list\n",
    "feature_names = X.columns"
   ]
  },
  {
   "cell_type": "code",
   "execution_count": 43,
   "id": "46ab1547",
   "metadata": {},
   "outputs": [],
   "source": [
    "#splitting data into training and validation sets (train versus test)\n",
    "(X_train, X_test , y_train , y_test) = skm.train_test_split(X, df['LOGVALUE'], test_size=0.3, random_state=0)"
   ]
  },
  {
   "cell_type": "code",
   "execution_count": 54,
   "id": "c63fb3a6",
   "metadata": {},
   "outputs": [
    {
     "data": {
      "text/html": [
       "<style>#sk-container-id-4 {color: black;}#sk-container-id-4 pre{padding: 0;}#sk-container-id-4 div.sk-toggleable {background-color: white;}#sk-container-id-4 label.sk-toggleable__label {cursor: pointer;display: block;width: 100%;margin-bottom: 0;padding: 0.3em;box-sizing: border-box;text-align: center;}#sk-container-id-4 label.sk-toggleable__label-arrow:before {content: \"▸\";float: left;margin-right: 0.25em;color: #696969;}#sk-container-id-4 label.sk-toggleable__label-arrow:hover:before {color: black;}#sk-container-id-4 div.sk-estimator:hover label.sk-toggleable__label-arrow:before {color: black;}#sk-container-id-4 div.sk-toggleable__content {max-height: 0;max-width: 0;overflow: hidden;text-align: left;background-color: #f0f8ff;}#sk-container-id-4 div.sk-toggleable__content pre {margin: 0.2em;color: black;border-radius: 0.25em;background-color: #f0f8ff;}#sk-container-id-4 input.sk-toggleable__control:checked~div.sk-toggleable__content {max-height: 200px;max-width: 100%;overflow: auto;}#sk-container-id-4 input.sk-toggleable__control:checked~label.sk-toggleable__label-arrow:before {content: \"▾\";}#sk-container-id-4 div.sk-estimator input.sk-toggleable__control:checked~label.sk-toggleable__label {background-color: #d4ebff;}#sk-container-id-4 div.sk-label input.sk-toggleable__control:checked~label.sk-toggleable__label {background-color: #d4ebff;}#sk-container-id-4 input.sk-hidden--visually {border: 0;clip: rect(1px 1px 1px 1px);clip: rect(1px, 1px, 1px, 1px);height: 1px;margin: -1px;overflow: hidden;padding: 0;position: absolute;width: 1px;}#sk-container-id-4 div.sk-estimator {font-family: monospace;background-color: #f0f8ff;border: 1px dotted black;border-radius: 0.25em;box-sizing: border-box;margin-bottom: 0.5em;}#sk-container-id-4 div.sk-estimator:hover {background-color: #d4ebff;}#sk-container-id-4 div.sk-parallel-item::after {content: \"\";width: 100%;border-bottom: 1px solid gray;flex-grow: 1;}#sk-container-id-4 div.sk-label:hover label.sk-toggleable__label {background-color: #d4ebff;}#sk-container-id-4 div.sk-serial::before {content: \"\";position: absolute;border-left: 1px solid gray;box-sizing: border-box;top: 0;bottom: 0;left: 50%;z-index: 0;}#sk-container-id-4 div.sk-serial {display: flex;flex-direction: column;align-items: center;background-color: white;padding-right: 0.2em;padding-left: 0.2em;position: relative;}#sk-container-id-4 div.sk-item {position: relative;z-index: 1;}#sk-container-id-4 div.sk-parallel {display: flex;align-items: stretch;justify-content: center;background-color: white;position: relative;}#sk-container-id-4 div.sk-item::before, #sk-container-id-4 div.sk-parallel-item::before {content: \"\";position: absolute;border-left: 1px solid gray;box-sizing: border-box;top: 0;bottom: 0;left: 50%;z-index: -1;}#sk-container-id-4 div.sk-parallel-item {display: flex;flex-direction: column;z-index: 1;position: relative;background-color: white;}#sk-container-id-4 div.sk-parallel-item:first-child::after {align-self: flex-end;width: 50%;}#sk-container-id-4 div.sk-parallel-item:last-child::after {align-self: flex-start;width: 50%;}#sk-container-id-4 div.sk-parallel-item:only-child::after {width: 0;}#sk-container-id-4 div.sk-dashed-wrapped {border: 1px dashed gray;margin: 0 0.4em 0.5em 0.4em;box-sizing: border-box;padding-bottom: 0.4em;background-color: white;}#sk-container-id-4 div.sk-label label {font-family: monospace;font-weight: bold;display: inline-block;line-height: 1.2em;}#sk-container-id-4 div.sk-label-container {text-align: center;}#sk-container-id-4 div.sk-container {/* jupyter's `normalize.less` sets `[hidden] { display: none; }` but bootstrap.min.css set `[hidden] { display: none !important; }` so we also need the `!important` here to be able to override the default hidden behavior on the sphinx rendered scikit-learn.org. See: https://github.com/scikit-learn/scikit-learn/issues/21755 */display: inline-block !important;position: relative;}#sk-container-id-4 div.sk-text-repr-fallback {display: none;}</style><div id=\"sk-container-id-4\" class=\"sk-top-container\"><div class=\"sk-text-repr-fallback\"><pre>DecisionTreeRegressor(max_depth=7)</pre><b>In a Jupyter environment, please rerun this cell to show the HTML representation or trust the notebook. <br />On GitHub, the HTML representation is unable to render, please try loading this page with nbviewer.org.</b></div><div class=\"sk-container\" hidden><div class=\"sk-item\"><div class=\"sk-estimator sk-toggleable\"><input class=\"sk-toggleable__control sk-hidden--visually\" id=\"sk-estimator-id-4\" type=\"checkbox\" checked><label for=\"sk-estimator-id-4\" class=\"sk-toggleable__label sk-toggleable__label-arrow\">DecisionTreeRegressor</label><div class=\"sk-toggleable__content\"><pre>DecisionTreeRegressor(max_depth=7)</pre></div></div></div></div></div>"
      ],
      "text/plain": [
       "DecisionTreeRegressor(max_depth=7)"
      ]
     },
     "execution_count": 54,
     "metadata": {},
     "output_type": "execute_result"
    }
   ],
   "source": [
    "#creating a regression tree with fixed depth using sklearn DecisionTreeRegressor\n",
    "reg = DTR(max_depth=7)\n",
    "reg.fit(X_train, y_train)"
   ]
  },
  {
   "cell_type": "code",
   "execution_count": 55,
   "id": "92a7c30c",
   "metadata": {},
   "outputs": [],
   "source": [
    "#using k-fold cross validation to find best alpha which minimizes average error\n",
    "ccp_path = reg.cost_complexity_pruning_path(X_train, y_train)\n",
    "kfold = skm.KFold(5,shuffle=True,random_state=10)\n",
    "\n",
    "grid = skm.GridSearchCV(reg,{'ccp_alpha': ccp_path.ccp_alphas},refit=True,cv=kfold, scoring='neg_mean_squared_error')\n",
    "G = grid.fit(X_train, y_train)"
   ]
  },
  {
   "cell_type": "code",
   "execution_count": 56,
   "id": "4ad411cb",
   "metadata": {},
   "outputs": [
    {
     "data": {
      "text/plain": [
       "0.9870020687042144"
      ]
     },
     "execution_count": 56,
     "metadata": {},
     "output_type": "execute_result"
    }
   ],
   "source": [
    "#making predictions for the validation set data using best tree for training set found above\n",
    "best_ = grid.best_estimator_\n",
    "pred = best_.predict(X_test)\n",
    "\n",
    "#finding MSE in validation set\n",
    "np.mean((y_test - pred)**2)"
   ]
  },
  {
   "cell_type": "code",
   "execution_count": 57,
   "id": "8e3edb96",
   "metadata": {},
   "outputs": [
    {
     "data": {
      "text/plain": [
       "0.23601514365953347"
      ]
     },
     "execution_count": 57,
     "metadata": {},
     "output_type": "execute_result"
    }
   ],
   "source": [
    "#finding R^2 in validation set\n",
    "sklearn.metrics.r2_score(y_test, pred, sample_weight=None, multioutput=None)"
   ]
  },
  {
   "cell_type": "code",
   "execution_count": 65,
   "id": "9bf49211",
   "metadata": {},
   "outputs": [
    {
     "data": {
      "text/plain": [
       "0.8272458335844721"
      ]
     },
     "execution_count": 65,
     "metadata": {},
     "output_type": "execute_result"
    }
   ],
   "source": [
    "full_pred = best_.predict(X)\n",
    "y_full = df['LOGVALUE']\n",
    "np.mean((y_full - full_pred)**2)"
   ]
  },
  {
   "cell_type": "code",
   "execution_count": 73,
   "id": "e99045b4",
   "metadata": {},
   "outputs": [
    {
     "data": {
      "text/plain": [
       "0.30755200869027843"
      ]
     },
     "execution_count": 73,
     "metadata": {},
     "output_type": "execute_result"
    }
   ],
   "source": [
    "sklearn.metrics.r2_score(y_full, full_pred, sample_weight=None, multioutput=None)"
   ]
  },
  {
   "cell_type": "code",
   "execution_count": 6,
   "id": "04b69569",
   "metadata": {},
   "outputs": [
    {
     "ename": "NameError",
     "evalue": "name 'y_test' is not defined",
     "output_type": "error",
     "traceback": [
      "\u001b[0;31m---------------------------------------------------------------------------\u001b[0m",
      "\u001b[0;31mNameError\u001b[0m                                 Traceback (most recent call last)",
      "Cell \u001b[0;32mIn[6], line 2\u001b[0m\n\u001b[1;32m      1\u001b[0m \u001b[38;5;66;03m#plotting scatter graph of predicted vs observed log of house prices from above\u001b[39;00m\n\u001b[0;32m----> 2\u001b[0m plt\u001b[38;5;241m.\u001b[39mscatter(y_test, pred, marker\u001b[38;5;241m=\u001b[39m\u001b[38;5;124m'\u001b[39m\u001b[38;5;124mo\u001b[39m\u001b[38;5;124m'\u001b[39m, s\u001b[38;5;241m=\u001b[39m\u001b[38;5;241m15\u001b[39m, alpha\u001b[38;5;241m=\u001b[39m\u001b[38;5;241m0.4\u001b[39m, color\u001b[38;5;241m=\u001b[39m\u001b[38;5;124m\"\u001b[39m\u001b[38;5;124mred\u001b[39m\u001b[38;5;124m\"\u001b[39m)\n\u001b[1;32m      3\u001b[0m plt\u001b[38;5;241m.\u001b[39mgrid(\u001b[38;5;28;01mTrue\u001b[39;00m)\n\u001b[1;32m      4\u001b[0m plt\u001b[38;5;241m.\u001b[39mxlabel(\u001b[38;5;124m'\u001b[39m\u001b[38;5;124mTrue Log of House Price\u001b[39m\u001b[38;5;124m'\u001b[39m)\n",
      "\u001b[0;31mNameError\u001b[0m: name 'y_test' is not defined"
     ]
    }
   ],
   "source": [
    "#plotting scatter graph of predicted vs observed log of house prices from above\n",
    "plt.scatter(y_test, pred, marker='o', s=15, alpha=0.4, color=\"red\")\n",
    "plt.grid(True)\n",
    "plt.xlabel('True Log of House Price')\n",
    "plt.ylabel('Predicted Log of House Price')\n",
    "plt.title('Plot of Predicted House Prices vs Observed Values in Validation Set')\n",
    "#plt.xlim(xmin=0)\n",
    "plt.show()"
   ]
  },
  {
   "cell_type": "code",
   "execution_count": 59,
   "id": "f5e59301",
   "metadata": {},
   "outputs": [
    {
     "name": "stdout",
     "output_type": "stream",
     "text": [
      "BATHS : 0.045742889212189185\n",
      "BEDRMS : 0.0\n",
      "BUILT : 0.027641092913693963\n",
      "UNITSF : 0.20109201781201871\n",
      "LOT : 0.06924857389295985\n",
      "ROOMS : 0.27347191391750175\n",
      "REGION : 0.300474755391475\n",
      "KITCHEN : 0.0\n",
      "FLOORS : 0.05145937812389177\n",
      "LAUNDY : 0.008986290140974082\n",
      "RECRM : 0.021883088595295436\n",
      "METRO : 0.0\n",
      "METRO3 : 0.0\n"
     ]
    }
   ],
   "source": [
    "#finding feature importance using provided DTR function from sklearn\n",
    "feat_importance = best_.feature_importances_\n",
    "\n",
    "#displaying feature importances\n",
    "for i in range(len(feature_names)):\n",
    "    print(feature_names[i] + \" : \" + str(feat_importance[i]))"
   ]
  },
  {
   "cell_type": "code",
   "execution_count": 60,
   "id": "e2f355b4",
   "metadata": {},
   "outputs": [
    {
     "data": {
      "image/png": "[encoded data removed]",
      "text/plain": [
       "<Figure size 1000x1000 with 1 Axes>"
      ]
     },
     "metadata": {},
     "output_type": "display_data"
    }
   ],
   "source": [
    "sorted_indices = feat_importance.argsort()[::-1]\n",
    "\n",
    "# Plotting feature importances\n",
    "plt.figure(figsize=(10, 10))\n",
    "plt.barh(range(len(feature_names)), feat_importance[sorted_indices], color=\"red\")\n",
    "plt.yticks(range(len(feature_names)), feature_names[sorted_indices])\n",
    "plt.xlabel('Feature Importance')\n",
    "plt.ylabel('Feature Name')\n",
    "plt.title('Relative Importance of Features in House Price Prediction Model')\n",
    "plt.show()"
   ]
  },
  {
   "cell_type": "code",
   "execution_count": 4,
   "id": "5c8a41dd",
   "metadata": {},
   "outputs": [
    {
     "data": {
      "text/html": [
       "<div>\n",
       "<style scoped>\n",
       "    .dataframe tbody tr th:only-of-type {\n",
       "        vertical-align: middle;\n",
       "    }\n",
       "\n",
       "    .dataframe tbody tr th {\n",
       "        vertical-align: top;\n",
       "    }\n",
       "\n",
       "    .dataframe thead th {\n",
       "        text-align: right;\n",
       "    }\n",
       "</style>\n",
       "<table border=\"1\" class=\"dataframe\">\n",
       "  <thead>\n",
       "    <tr style=\"text-align: right;\">\n",
       "      <th></th>\n",
       "      <th>baths</th>\n",
       "      <th>bedrms</th>\n",
       "      <th>built</th>\n",
       "      <th>unitsf</th>\n",
       "      <th>lot</th>\n",
       "      <th>rooms</th>\n",
       "      <th>region</th>\n",
       "      <th>kitchen</th>\n",
       "      <th>floors</th>\n",
       "      <th>laundy</th>\n",
       "      <th>recrm</th>\n",
       "      <th>metro</th>\n",
       "      <th>metro3</th>\n",
       "    </tr>\n",
       "  </thead>\n",
       "  <tbody>\n",
       "    <tr>\n",
       "      <th>0</th>\n",
       "      <td>3</td>\n",
       "      <td>4</td>\n",
       "      <td>1960</td>\n",
       "      <td>3000.0</td>\n",
       "      <td>44000.0</td>\n",
       "      <td>10</td>\n",
       "      <td>3</td>\n",
       "      <td>1</td>\n",
       "      <td>2</td>\n",
       "      <td>0</td>\n",
       "      <td>0</td>\n",
       "      <td>7</td>\n",
       "      <td>9</td>\n",
       "    </tr>\n",
       "    <tr>\n",
       "      <th>1</th>\n",
       "      <td>1</td>\n",
       "      <td>3</td>\n",
       "      <td>1975</td>\n",
       "      <td>3100.0</td>\n",
       "      <td>44000.0</td>\n",
       "      <td>7</td>\n",
       "      <td>2</td>\n",
       "      <td>1</td>\n",
       "      <td>3</td>\n",
       "      <td>0</td>\n",
       "      <td>0</td>\n",
       "      <td>7</td>\n",
       "      <td>2</td>\n",
       "    </tr>\n",
       "    <tr>\n",
       "      <th>2</th>\n",
       "      <td>1</td>\n",
       "      <td>2</td>\n",
       "      <td>1940</td>\n",
       "      <td>1480.0</td>\n",
       "      <td>2450.0</td>\n",
       "      <td>4</td>\n",
       "      <td>4</td>\n",
       "      <td>1</td>\n",
       "      <td>2</td>\n",
       "      <td>0</td>\n",
       "      <td>0</td>\n",
       "      <td>1</td>\n",
       "      <td>1</td>\n",
       "    </tr>\n",
       "    <tr>\n",
       "      <th>3</th>\n",
       "      <td>2</td>\n",
       "      <td>3</td>\n",
       "      <td>2000</td>\n",
       "      <td>1200.0</td>\n",
       "      <td>11000.0</td>\n",
       "      <td>6</td>\n",
       "      <td>3</td>\n",
       "      <td>1</td>\n",
       "      <td>2</td>\n",
       "      <td>0</td>\n",
       "      <td>0</td>\n",
       "      <td>7</td>\n",
       "      <td>2</td>\n",
       "    </tr>\n",
       "    <tr>\n",
       "      <th>4</th>\n",
       "      <td>4</td>\n",
       "      <td>5</td>\n",
       "      <td>2000</td>\n",
       "      <td>3000.0</td>\n",
       "      <td>11000.0</td>\n",
       "      <td>9</td>\n",
       "      <td>3</td>\n",
       "      <td>1</td>\n",
       "      <td>3</td>\n",
       "      <td>1</td>\n",
       "      <td>0</td>\n",
       "      <td>7</td>\n",
       "      <td>2</td>\n",
       "    </tr>\n",
       "  </tbody>\n",
       "</table>\n",
       "</div>"
      ],
      "text/plain": [
       "   baths  bedrms  built  unitsf      lot  rooms  region  kitchen  floors  \\\n",
       "0      3       4   1960  3000.0  44000.0     10       3        1       2   \n",
       "1      1       3   1975  3100.0  44000.0      7       2        1       3   \n",
       "2      1       2   1940  1480.0   2450.0      4       4        1       2   \n",
       "3      2       3   2000  1200.0  11000.0      6       3        1       2   \n",
       "4      4       5   2000  3000.0  11000.0      9       3        1       3   \n",
       "\n",
       "   laundy  recrm  metro  metro3  \n",
       "0       0      0      7       9  \n",
       "1       0      0      7       2  \n",
       "2       0      0      1       1  \n",
       "3       0      0      7       2  \n",
       "4       1      0      7       2  "
      ]
     },
     "execution_count": 4,
     "metadata": {},
     "output_type": "execute_result"
    }
   ],
   "source": [
    "#reading in test set data from csv file\n",
    "test_data = pd.read_csv('Econ424_W2024_PC2_test_set_without_response_variable_v1.csv')\n",
    "test_data.head()"
   ]
  },
  {
   "cell_type": "code",
   "execution_count": 62,
   "id": "a8ef6075",
   "metadata": {},
   "outputs": [
    {
     "name": "stderr",
     "output_type": "stream",
     "text": [
      "/Users/arunatchuthananthan/anaconda3/lib/python3.11/site-packages/sklearn/base.py:464: UserWarning: X does not have valid feature names, but DecisionTreeRegressor was fitted with feature names\n",
      "  warnings.warn(\n"
     ]
    }
   ],
   "source": [
    "#making predictions for house prices corresponding test data - using best tree found prior\n",
    "final_pred = best_.predict(np.asarray(test_data))\n",
    "final_pred = pd.DataFrame(final_pred)"
   ]
  },
  {
   "cell_type": "code",
   "execution_count": 40,
   "id": "6e3357e9",
   "metadata": {},
   "outputs": [
    {
     "name": "stdout",
     "output_type": "stream",
     "text": [
      "(10000, 13)\n"
     ]
    }
   ],
   "source": [
    "print(test_data.shape)"
   ]
  },
  {
   "cell_type": "code",
   "execution_count": 5,
   "id": "0249a34b",
   "metadata": {},
   "outputs": [],
   "source": [
    "#outputting test set predictions to csv file\n",
    "final_pred.to_csv(\"preds.csv\", index=False, header=False)"
   ]
  },
  {
   "cell_type": "code",
   "execution_count": null,
   "id": "ae55ec97",
   "metadata": {},
   "outputs": [],
   "source": []
  }
 ],
 "metadata": {
  "kernelspec": {
   "display_name": "Python 3 (ipykernel)",
   "language": "python",
   "name": "python3"
  },
  "language_info": {
   "codemirror_mode": {
    "name": "ipython",
    "version": 3
   },
   "file_extension": ".py",
   "mimetype": "text/x-python",
   "name": "python",
   "nbconvert_exporter": "python",
   "pygments_lexer": "ipython3",
   "version": "3.11.5"
  }
 },
 "nbformat": 4,
 "nbformat_minor": 5
}
